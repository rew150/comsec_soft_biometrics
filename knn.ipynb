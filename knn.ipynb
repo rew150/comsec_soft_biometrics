{
 "cells": [
  {
   "cell_type": "code",
   "execution_count": 16,
   "metadata": {},
   "outputs": [],
   "source": [
    "from typing import List\n",
    "import pickle\n",
    "import numpy as np\n",
    "from sklearn.neighbors import KNeighborsClassifier"
   ]
  },
  {
   "cell_type": "code",
   "execution_count": 17,
   "metadata": {},
   "outputs": [],
   "source": [
    "def rolling_window(a, window) -> np.ndarray :\n",
    "    shape = a.shape[:-1] + (a.shape[-1] - window + 1, window)\n",
    "    strides = a.strides + (a.strides[-1],)\n",
    "    return np.lib.stride_tricks.as_strided(a, shape=shape, strides=strides)\n",
    "\n",
    "def prepare_X(timelog: List[List[int]], take: int) -> np.ndarray:\n",
    "    x = timelog[:take]\n",
    "    total_time = x[-1][-1] - x[0][0]\n",
    "    x_duration = []\n",
    "    for word_array in x:\n",
    "        duration = [a[1]-a[0] for a in rolling_window(word_array, 2)]\n",
    "        x_duration.append(duration)\n",
    "    x_vec = np.concatenate(x_duration, dtype=np.int64)\n",
    "    x_vec = np.append(x_vec, total_time)\n",
    "    return x_vec"
   ]
  },
  {
   "cell_type": "code",
   "execution_count": 18,
   "metadata": {},
   "outputs": [
    {
     "name": "stdout",
     "output_type": "stream",
     "text": [
      "00\n",
      "01\n",
      "02\n",
      "03\n",
      "04\n",
      "10\n",
      "11\n",
      "12\n",
      "13\n",
      "14\n"
     ]
    }
   ],
   "source": [
    "labels = [0, 1]\n",
    "nums = [5, 5]\n",
    "\n",
    "data: List[List[List[int]]] = []\n",
    "for (label, num) in zip(labels, nums):\n",
    "    for i in range(num):\n",
    "        with open(f'./n{label}{i}/buffers.pkl', 'rb') as fb:\n",
    "            with open(f'./n{label}{i}/logtimes.pkl', 'rb') as ft:\n",
    "                buffers: List[str] = pickle.load(fb)\n",
    "                logtimes: List[List[int]] = pickle.load(ft)\n",
    "                print(f'{label}{i}')\n",
    "                data.append(logtimes)\n",
    "    "
   ]
  },
  {
   "cell_type": "code",
   "execution_count": 19,
   "metadata": {},
   "outputs": [],
   "source": [
    "with open(f'./n0t/logtimes.pkl', 'rb') as f:\n",
    "    logtimes_X_t0: List[List[int]] = pickle.load(f)\n",
    "with open(f'./n1t/logtimes.pkl', 'rb') as f:\n",
    "    logtimes_X_t1: List[List[int]] = pickle.load(f)"
   ]
  },
  {
   "cell_type": "code",
   "execution_count": 20,
   "metadata": {},
   "outputs": [
    {
     "name": "stdout",
     "output_type": "stream",
     "text": [
      "[array(['t', 'h', 'e'], dtype='<U1'), array(['a', 'n', 'd'], dtype='<U1'), array(['y', 'o', 'u'], dtype='<U1'), array(['t', 'h', 'a', 't'], dtype='<U1'), array(['w', 'a', 's'], dtype='<U1'), array(['f', 'o', 'r'], dtype='<U1'), array(['a', 'r', 'e'], dtype='<U1'), array(['w', 'i', 't', 'h'], dtype='<U1'), array(['h', 'i', 's'], dtype='<U1'), array(['t', 'h', 'e', 'y'], dtype='<U1'), array(['o', 'n', 'e'], dtype='<U1'), array(['h', 'a', 'v', 'e'], dtype='<U1'), array(['t', 'h', 'i', 's'], dtype='<U1'), array(['f', 'r', 'o', 'm'], dtype='<U1'), array(['h', 'a', 'd'], dtype='<U1'), array(['n', 'o', 't'], dtype='<U1'), array(['w', 'o', 'r', 'd'], dtype='<U1'), array(['b', 'u', 't'], dtype='<U1'), array(['w', 'h', 'a', 't'], dtype='<U1'), array(['s', 'o', 'm', 'e'], dtype='<U1'), array(['c', 'a', 'n'], dtype='<U1'), array(['o', 'u', 't'], dtype='<U1'), array(['o', 't', 'h', 'e', 'r'], dtype='<U1'), array(['w', 'e', 'r', 'e'], dtype='<U1'), array(['a', 'l', 'l'], dtype='<U1'), array(['t', 'h', 'e', 'r', 'e'], dtype='<U1'), array(['w', 'h', 'e', 'n'], dtype='<U1'), array(['u', 's', 'e'], dtype='<U1'), array(['y', 'o', 'u', 'r'], dtype='<U1'), array(['h', 'o', 'w'], dtype='<U1'), array(['s', 'a', 'i', 'd'], dtype='<U1'), array(['e', 'a', 'c', 'h'], dtype='<U1'), array(['s', 'h', 'e'], dtype='<U1'), array(['w', 'h', 'i', 'c', 'h'], dtype='<U1'), array(['t', 'h', 'e', 'i', 'r'], dtype='<U1'), array(['t', 'i', 'm', 'e'], dtype='<U1'), array(['w', 'i', 'l', 'l'], dtype='<U1'), array(['w', 'a', 'y'], dtype='<U1'), array(['a', 'b', 'o', 'u', 't'], dtype='<U1'), array(['m', 'a', 'n', 'y'], dtype='<U1'), array(['t', 'h', 'e', 'n'], dtype='<U1'), array(['t', 'h', 'e', 'm'], dtype='<U1'), array(['w', 'r', 'i', 't', 'e'], dtype='<U1'), array(['w', 'o', 'u', 'l', 'd'], dtype='<U1'), array(['l', 'i', 'k', 'e'], dtype='<U1'), array(['t', 'h', 'e', 's', 'e'], dtype='<U1'), array(['h', 'e', 'r'], dtype='<U1'), array(['l', 'o', 'n', 'g'], dtype='<U1'), array(['m', 'a', 'k', 'e'], dtype='<U1'), array(['t', 'h', 'i', 'n', 'g'], dtype='<U1'), array(['s', 'e', 'e'], dtype='<U1'), array(['h', 'i', 'm'], dtype='<U1'), array(['t', 'w', 'o'], dtype='<U1'), array(['h', 'a', 's'], dtype='<U1'), array(['l', 'o', 'o', 'k'], dtype='<U1'), array(['m', 'o', 'r', 'e'], dtype='<U1'), array(['d', 'a', 'y'], dtype='<U1'), array(['c', 'o', 'u', 'l', 'd'], dtype='<U1'), array(['c', 'o', 'm', 'e'], dtype='<U1'), array(['d', 'i', 'd'], dtype='<U1'), array(['n', 'u', 'm', 'b', 'e', 'r'], dtype='<U1'), array(['s', 'o', 'u', 'n', 'd'], dtype='<U1'), array(['m', 'o', 's', 't'], dtype='<U1'), array(['p', 'e', 'o', 'p', 'l', 'e'], dtype='<U1'), array(['o', 'v', 'e', 'r'], dtype='<U1'), array(['k', 'n', 'o', 'w'], dtype='<U1'), array(['w', 'a', 't', 'e', 'r'], dtype='<U1'), array(['t', 'h', 'a', 'n'], dtype='<U1'), array(['c', 'a', 'l', 'l'], dtype='<U1'), array(['f', 'i', 'r', 's', 't'], dtype='<U1'), array(['w', 'h', 'o'], dtype='<U1'), array(['m', 'a', 'y'], dtype='<U1'), array(['d', 'o', 'w', 'n'], dtype='<U1'), array(['s', 'i', 'd', 'e'], dtype='<U1'), array(['b', 'e', 'e', 'n'], dtype='<U1'), array(['n', 'o', 'w'], dtype='<U1'), array(['f', 'i', 'n', 'd'], dtype='<U1'), array(['a', 'n', 'y'], dtype='<U1'), array(['n', 'e', 'w'], dtype='<U1'), array(['w', 'o', 'r', 'k'], dtype='<U1'), array(['p', 'a', 'r', 't'], dtype='<U1'), array(['t', 'a', 'k', 'e'], dtype='<U1'), array(['g', 'e', 't'], dtype='<U1'), array(['p', 'l', 'a', 'c', 'e'], dtype='<U1'), array(['m', 'a', 'd', 'e'], dtype='<U1'), array(['l', 'i', 'v', 'e'], dtype='<U1'), array(['w', 'h', 'e', 'r', 'e'], dtype='<U1'), array(['a', 'f', 't', 'e', 'r'], dtype='<U1'), array(['b', 'a', 'c', 'k'], dtype='<U1'), array(['l', 'i', 't', 't', 'l', 'e'], dtype='<U1'), array(['o', 'n', 'l', 'y'], dtype='<U1'), array(['r', 'o', 'u', 'n', 'd'], dtype='<U1'), array(['m', 'a', 'n'], dtype='<U1'), array(['y', 'e', 'a', 'r'], dtype='<U1'), array(['c', 'a', 'm', 'e'], dtype='<U1'), array(['s', 'h', 'o', 'w'], dtype='<U1'), array(['e', 'v', 'e', 'r', 'y'], dtype='<U1'), array(['g', 'o', 'o', 'd'], dtype='<U1'), array(['g', 'i', 'v', 'e'], dtype='<U1'), array(['o', 'u', 'r'], dtype='<U1')]\n"
     ]
    }
   ],
   "source": [
    "print(buffers)"
   ]
  },
  {
   "cell_type": "code",
   "execution_count": 21,
   "metadata": {},
   "outputs": [
    {
     "name": "stdout",
     "output_type": "stream",
     "text": [
      "required_word: 1\n"
     ]
    }
   ],
   "source": [
    "for required_word in range(1,101):\n",
    "    X = []\n",
    "    Y: List[int] = []\n",
    "    for (label, num) in zip(labels, nums):\n",
    "        Y += [label] * num\n",
    "    for all_for_x in data:\n",
    "        x_vec = prepare_X(all_for_x, required_word)\n",
    "        X.append(x_vec)\n",
    "    Xt = [prepare_X(logtimes_X_t0, required_word), prepare_X(logtimes_X_t1, required_word)]\n",
    "    neigh = KNeighborsClassifier(n_neighbors=3, algorithm='brute')\n",
    "    neigh.fit(X, Y)\n",
    "    Yt = neigh.predict(Xt)\n",
    "    if Yt[0] ==0 and Yt[1] ==1:\n",
    "        print('required_word:', required_word)\n",
    "        break\n"
   ]
  }
 ],
 "metadata": {
  "interpreter": {
   "hash": "63fd5069d213b44bf678585dea6b12cceca9941eaf7f819626cde1f2670de90d"
  },
  "kernelspec": {
   "display_name": "Python 3.9.5 64-bit",
   "name": "python3"
  },
  "language_info": {
   "codemirror_mode": {
    "name": "ipython",
    "version": 3
   },
   "file_extension": ".py",
   "mimetype": "text/x-python",
   "name": "python",
   "nbconvert_exporter": "python",
   "pygments_lexer": "ipython3",
   "version": "3.9.5"
  },
  "orig_nbformat": 4
 },
 "nbformat": 4,
 "nbformat_minor": 2
}
